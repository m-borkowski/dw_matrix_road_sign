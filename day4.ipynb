{
  "nbformat": 4,
  "nbformat_minor": 0,
  "metadata": {
    "colab": {
      "name": "day4.ipynb",
      "provenance": [],
      "collapsed_sections": [],
      "toc_visible": true,
      "mount_file_id": "1kkN93bGjFhB1C61PeBqwyAMn_ecSKbps",
      "authorship_tag": "ABX9TyMpr1ku1DLXCht99priDn8h",
      "include_colab_link": true
    },
    "kernelspec": {
      "name": "python3",
      "display_name": "Python 3"
    },
    "accelerator": "GPU"
  },
  "cells": [
    {
      "cell_type": "markdown",
      "metadata": {
        "id": "view-in-github",
        "colab_type": "text"
      },
      "source": [
        "<a href=\"https://colab.research.google.com/github/paragrafff22/dw_matrix_road_sign/blob/master/day4.ipynb\" target=\"_parent\"><img src=\"https://colab.research.google.com/assets/colab-badge.svg\" alt=\"Open In Colab\"/></a>"
      ]
    },
    {
      "cell_type": "code",
      "metadata": {
        "id": "pMv54bOOMO71",
        "colab_type": "code",
        "outputId": "7f04e332-0ada-42e3-ae50-6b91b61863e7",
        "colab": {
          "base_uri": "https://localhost:8080/",
          "height": 51
        }
      },
      "source": [
        "import pandas as pd\n",
        "import numpy as np\n",
        "import os\n",
        "import datetime\n",
        "\n",
        "import tensorflow as tf\n",
        "from tensorflow.keras.models import Sequential\n",
        "from tensorflow.keras.layers import Conv2D, MaxPool2D, Dense, Flatten, Dropout\n",
        "from tensorflow.keras.utils import to_categorical\n",
        "\n",
        "%load_ext tensorboard\n",
        "\n",
        "import matplotlib.pyplot as plt\n",
        "from skimage import color, exposure\n",
        "\n",
        "from sklearn.metrics import accuracy_score"
      ],
      "execution_count": 15,
      "outputs": [
        {
          "output_type": "stream",
          "text": [
            "The tensorboard extension is already loaded. To reload it, use:\n",
            "  %reload_ext tensorboard\n"
          ],
          "name": "stdout"
        }
      ]
    },
    {
      "cell_type": "code",
      "metadata": {
        "id": "brVReX-xUCgW",
        "colab_type": "code",
        "outputId": "18ddd5fb-02ee-447b-a6ff-a8af73a5e516",
        "colab": {
          "base_uri": "https://localhost:8080/",
          "height": 34
        }
      },
      "source": [
        "cd '/content/drive/My Drive/Colab Notebooks/matrix/matrix_three/dw_matrix_road_sign'"
      ],
      "execution_count": 16,
      "outputs": [
        {
          "output_type": "stream",
          "text": [
            "/content/drive/My Drive/Colab Notebooks/matrix/matrix_three/dw_matrix_road_sign\n"
          ],
          "name": "stdout"
        }
      ]
    },
    {
      "cell_type": "code",
      "metadata": {
        "id": "mCJ-AMZ_ULXR",
        "colab_type": "code",
        "colab": {}
      },
      "source": [
        "train = pd.read_pickle('data/train.p')\n",
        "test = pd.read_pickle('data/test.p')\n",
        "\n",
        "X_train, y_train = train['features'], train['labels']\n",
        "X_test, y_test = test['features'], test['labels']"
      ],
      "execution_count": 0,
      "outputs": []
    },
    {
      "cell_type": "code",
      "metadata": {
        "id": "RyvuOl_RUrnL",
        "colab_type": "code",
        "colab": {}
      },
      "source": [
        "if y_train.ndim == 1: y_train = to_categorical(y_train)\n",
        "if y_test.ndim == 1: y_test = to_categorical(y_test)"
      ],
      "execution_count": 0,
      "outputs": []
    },
    {
      "cell_type": "code",
      "metadata": {
        "id": "Mr4beMlqW51b",
        "colab_type": "code",
        "colab": {}
      },
      "source": [
        "input_shape = X_train.shape[1:]\n",
        "num_classes = y_train.shape[1]"
      ],
      "execution_count": 0,
      "outputs": []
    },
    {
      "cell_type": "code",
      "metadata": {
        "id": "bIQpYjsAVpKj",
        "colab_type": "code",
        "outputId": "0d094a3c-88b7-43c8-ebe7-38a10287ea30",
        "colab": {
          "base_uri": "https://localhost:8080/",
          "height": 289
        }
      },
      "source": [
        "model = Sequential([\n",
        "        Conv2D(filters=64, kernel_size=(3,3), activation='relu', input_shape = input_shape),\n",
        "        Flatten(),\n",
        "        Dense(num_classes, activation='softmax'),\n",
        "])\n",
        "model.summary()\n",
        "\n",
        "model.compile(loss='categorical_crossentropy', optimizer='Adam', metrics=['accuracy'])\n",
        "model.fit(X_train, y_train)"
      ],
      "execution_count": 20,
      "outputs": [
        {
          "output_type": "stream",
          "text": [
            "Model: \"sequential_3\"\n",
            "_________________________________________________________________\n",
            "Layer (type)                 Output Shape              Param #   \n",
            "=================================================================\n",
            "conv2d_3 (Conv2D)            (None, 30, 30, 64)        1792      \n",
            "_________________________________________________________________\n",
            "flatten_3 (Flatten)          (None, 57600)             0         \n",
            "_________________________________________________________________\n",
            "dense_3 (Dense)              (None, 43)                2476843   \n",
            "=================================================================\n",
            "Total params: 2,478,635\n",
            "Trainable params: 2,478,635\n",
            "Non-trainable params: 0\n",
            "_________________________________________________________________\n",
            "1088/1088 [==============================] - 3s 3ms/step - loss: 8.9380 - accuracy: 0.7965\n"
          ],
          "name": "stdout"
        },
        {
          "output_type": "execute_result",
          "data": {
            "text/plain": [
              "<tensorflow.python.keras.callbacks.History at 0x7ff6478c0208>"
            ]
          },
          "metadata": {
            "tags": []
          },
          "execution_count": 20
        }
      ]
    },
    {
      "cell_type": "code",
      "metadata": {
        "id": "bIkpNcHJVvK6",
        "colab_type": "code",
        "outputId": "5dafaeb4-e842-4a9a-c198-f64430152ccf",
        "colab": {
          "base_uri": "https://localhost:8080/",
          "height": 255
        }
      },
      "source": [
        "def get_cnn_v1(input_shape, num_classes):\n",
        "  return Sequential([\n",
        "  \n",
        "  Conv2D(filters=64, kernel_size=(3,3), activation='relu', input_shape=input_shape ),\n",
        "  \n",
        "  Flatten(),\n",
        "  \n",
        "  Dense(num_classes, activation='softmax')\n",
        "  ])\n",
        "\n",
        "def train_model(model, X_train, y_train, params_fit={}):\n",
        "  model.compile(\n",
        "    loss='categorical_crossentropy', \n",
        "    optimizer='Adam', \n",
        "    metrics=['accuracy']\n",
        "  )\n",
        "\n",
        "\n",
        "  logdir = os.path.join(\"logs\", datetime.datetime.now().strftime(\"%Y%m%d-%H%M%S\"))\n",
        "  tensorboard_callback = tf.keras.callbacks.TensorBoard(logdir, histogram_freq=1)\n",
        "\n",
        "  model.fit(\n",
        "      X_train, \n",
        "      y_train,\n",
        "      batch_size = params_fit.get('batch_size', 128), \n",
        "      epochs = params_fit.get('epochs', 5),\n",
        "      verbose = params_fit.get('verbose', 1),\n",
        "      validation_data = params_fit.get('validation_data', (X_train, y_train)),\n",
        "      callbacks = [tensorboard_callback],\n",
        "      )\n",
        "  return model\n",
        "\n",
        "get_cnn_v1(input_shape, num_classes).summary()"
      ],
      "execution_count": 21,
      "outputs": [
        {
          "output_type": "stream",
          "text": [
            "Model: \"sequential_4\"\n",
            "_________________________________________________________________\n",
            "Layer (type)                 Output Shape              Param #   \n",
            "=================================================================\n",
            "conv2d_4 (Conv2D)            (None, 30, 30, 64)        1792      \n",
            "_________________________________________________________________\n",
            "flatten_4 (Flatten)          (None, 57600)             0         \n",
            "_________________________________________________________________\n",
            "dense_4 (Dense)              (None, 43)                2476843   \n",
            "=================================================================\n",
            "Total params: 2,478,635\n",
            "Trainable params: 2,478,635\n",
            "Non-trainable params: 0\n",
            "_________________________________________________________________\n"
          ],
          "name": "stdout"
        }
      ]
    },
    {
      "cell_type": "code",
      "metadata": {
        "id": "aLh8QszAVwRr",
        "colab_type": "code",
        "outputId": "7526745c-7612-4d78-d5a1-b8d728cb6f1c",
        "colab": {
          "base_uri": "https://localhost:8080/",
          "height": 187
        }
      },
      "source": [
        "model = get_cnn_v1(input_shape, num_classes)\n",
        "model_trained = train_model(model, X_train, y_train)"
      ],
      "execution_count": 22,
      "outputs": [
        {
          "output_type": "stream",
          "text": [
            "Epoch 1/5\n",
            "272/272 [==============================] - 2s 9ms/step - loss: 45.3134 - accuracy: 0.7354 - val_loss: 0.2399 - val_accuracy: 0.9428\n",
            "Epoch 2/5\n",
            "272/272 [==============================] - 2s 9ms/step - loss: 0.2065 - accuracy: 0.9538 - val_loss: 0.1359 - val_accuracy: 0.9714\n",
            "Epoch 3/5\n",
            "272/272 [==============================] - 2s 9ms/step - loss: 0.1452 - accuracy: 0.9674 - val_loss: 0.0868 - val_accuracy: 0.9799\n",
            "Epoch 4/5\n",
            "272/272 [==============================] - 2s 9ms/step - loss: 0.0912 - accuracy: 0.9787 - val_loss: 0.0779 - val_accuracy: 0.9818\n",
            "Epoch 5/5\n",
            "272/272 [==============================] - 2s 9ms/step - loss: 0.0751 - accuracy: 0.9829 - val_loss: 0.0725 - val_accuracy: 0.9820\n"
          ],
          "name": "stdout"
        }
      ]
    },
    {
      "cell_type": "code",
      "metadata": {
        "id": "0V1jFs_SjqfF",
        "colab_type": "code",
        "colab": {}
      },
      "source": [
        "df = pd.read_csv('data/signnames.csv')\n",
        "labels_dict = df.to_dict()['b']"
      ],
      "execution_count": 0,
      "outputs": []
    },
    {
      "cell_type": "code",
      "metadata": {
        "id": "LY20rQ0ekSMX",
        "colab_type": "code",
        "colab": {}
      },
      "source": [
        "def predict(model_trained, X_test, y_test, scoring=accuracy_score):\n",
        "\n",
        "  y_test_norm = np.argmax(y_test, axis=1)\n",
        "\n",
        "  y_pred_prob = model_trained.predict(X_test)\n",
        "  y_pred = np.argmax(y_pred_prob, axis=1)\n",
        "\n",
        "  return scoring(y_test_norm, y_pred)"
      ],
      "execution_count": 0,
      "outputs": []
    },
    {
      "cell_type": "code",
      "metadata": {
        "id": "u7ocWroglG9k",
        "colab_type": "code",
        "colab": {
          "base_uri": "https://localhost:8080/",
          "height": 34
        },
        "outputId": "ef659473-c4ae-4f3a-d514-69128655de72"
      },
      "source": [
        "predict(model_trained, X_test, y_test)"
      ],
      "execution_count": 25,
      "outputs": [
        {
          "output_type": "execute_result",
          "data": {
            "text/plain": [
              "0.8247165532879819"
            ]
          },
          "metadata": {
            "tags": []
          },
          "execution_count": 25
        }
      ]
    },
    {
      "cell_type": "code",
      "metadata": {
        "id": "t3sv0sNPkwl7",
        "colab_type": "code",
        "colab": {
          "base_uri": "https://localhost:8080/",
          "height": 34
        },
        "outputId": "0a6d9136-9fd9-4ea9-d475-2f554f2774e6"
      },
      "source": [
        "labels_dict[np.argmax(y_pred_prob[496])]"
      ],
      "execution_count": 26,
      "outputs": [
        {
          "output_type": "execute_result",
          "data": {
            "text/plain": [
              "'Speed limit (30km/h)'"
            ]
          },
          "metadata": {
            "tags": []
          },
          "execution_count": 26
        }
      ]
    },
    {
      "cell_type": "code",
      "metadata": {
        "id": "FcCLcnYbmvjC",
        "colab_type": "code",
        "colab": {
          "base_uri": "https://localhost:8080/",
          "height": 282
        },
        "outputId": "0a30b28d-2e31-4fdc-9f2c-ca1920b05227"
      },
      "source": [
        "plt.bar(range(43),y_pred_prob[400])"
      ],
      "execution_count": 27,
      "outputs": [
        {
          "output_type": "execute_result",
          "data": {
            "text/plain": [
              "<BarContainer object of 43 artists>"
            ]
          },
          "metadata": {
            "tags": []
          },
          "execution_count": 27
        },
        {
          "output_type": "display_data",
          "data": {
            "image/png": "[encoded data removed]",
            "text/plain": [
              "<Figure size 432x288 with 1 Axes>"
            ]
          },
          "metadata": {
            "tags": []
          }
        }
      ]
    },
    {
      "cell_type": "code",
      "metadata": {
        "id": "do9uHD-RkITR",
        "colab_type": "code",
        "colab": {
          "base_uri": "https://localhost:8080/",
          "height": 283
        },
        "outputId": "30c0bfd7-c188-4610-94ae-4874b683c914"
      },
      "source": [
        "plt.imshow(X_test[496])"
      ],
      "execution_count": 28,
      "outputs": [
        {
          "output_type": "execute_result",
          "data": {
            "text/plain": [
              "<matplotlib.image.AxesImage at 0x7ff646fe6eb8>"
            ]
          },
          "metadata": {
            "tags": []
          },
          "execution_count": 28
        },
        {
          "output_type": "display_data",
          "data": {
            "image/png": "[encoded data removed]",
            "text/plain": [
              "<Figure size 432x288 with 1 Axes>"
            ]
          },
          "metadata": {
            "tags": []
          }
        }
      ]
    },
    {
      "cell_type": "code",
      "metadata": {
        "id": "m92fj52VmtCS",
        "colab_type": "code",
        "colab": {}
      },
      "source": [
        "def train_and_predict(model):\n",
        "  model_trained = train_model(model, X_train, y_train)\n",
        "  return predict(model_trained, X_test, y_test)"
      ],
      "execution_count": 0,
      "outputs": []
    },
    {
      "cell_type": "code",
      "metadata": {
        "id": "eFQdm9zSd3M-",
        "colab_type": "code",
        "outputId": "90953889-4efc-4b78-f0f4-3a2cecff4b8f",
        "colab": {
          "base_uri": "https://localhost:8080/",
          "height": 204
        }
      },
      "source": [
        "def get_cnn_v2(input_shape, num_classes):\n",
        "  return Sequential([\n",
        "    Conv2D(filters=32, kernel_size=(3, 3), activation='relu', input_shape=input_shape),\n",
        "    MaxPool2D(),\n",
        "    Dropout(0.3),\n",
        "\n",
        "    Conv2D(filters=64, kernel_size=(3, 3), activation='relu'),\n",
        "    MaxPool2D(),\n",
        "    Dropout(0.3),\n",
        "\n",
        "    Flatten(),\n",
        "\n",
        "    Dense(1024, activation='relu'),\n",
        "    Dropout(0.3),\n",
        "\n",
        "    Dense(num_classes, activation='softmax')\n",
        "  ])\n",
        "\n",
        "train_and_predict(get_cnn_v2(input_shape, num_classes))"
      ],
      "execution_count": 30,
      "outputs": [
        {
          "output_type": "stream",
          "text": [
            "Epoch 1/5\n",
            "272/272 [==============================] - 3s 9ms/step - loss: 4.6017 - accuracy: 0.3475 - val_loss: 1.0427 - val_accuracy: 0.7626\n",
            "Epoch 2/5\n",
            "272/272 [==============================] - 2s 9ms/step - loss: 0.9426 - accuracy: 0.7194 - val_loss: 0.2726 - val_accuracy: 0.9392\n",
            "Epoch 3/5\n",
            "272/272 [==============================] - 2s 9ms/step - loss: 0.4831 - accuracy: 0.8549 - val_loss: 0.1298 - val_accuracy: 0.9769\n",
            "Epoch 4/5\n",
            "272/272 [==============================] - 2s 9ms/step - loss: 0.3151 - accuracy: 0.9061 - val_loss: 0.0756 - val_accuracy: 0.9874\n",
            "Epoch 5/5\n",
            "272/272 [==============================] - 2s 9ms/step - loss: 0.2406 - accuracy: 0.9283 - val_loss: 0.0512 - val_accuracy: 0.9901\n"
          ],
          "name": "stdout"
        },
        {
          "output_type": "execute_result",
          "data": {
            "text/plain": [
              "0.9199546485260771"
            ]
          },
          "metadata": {
            "tags": []
          },
          "execution_count": 30
        }
      ]
    },
    {
      "cell_type": "code",
      "metadata": {
        "id": "Pje4SMEse7eP",
        "colab_type": "code",
        "outputId": "148fae10-f5b7-4eab-eac1-41b849c9a40d",
        "colab": {
          "base_uri": "https://localhost:8080/",
          "height": 204
        }
      },
      "source": [
        "def get_cnn_v3(input_shape, num_classes):\n",
        "  return Sequential([\n",
        "    Conv2D(filters=32, kernel_size=(3, 3), activation='relu', input_shape=input_shape),\n",
        "    Conv2D(filters=32, kernel_size=(3, 3), activation='relu'),\n",
        "    MaxPool2D(),\n",
        "    Dropout(0.3),\n",
        "\n",
        "    Conv2D(filters=64, kernel_size=(3, 3), activation='relu'),\n",
        "    Conv2D(filters=64, kernel_size=(3, 3), activation='relu'),\n",
        "    MaxPool2D(),\n",
        "    Dropout(0.3),\n",
        "\n",
        "    Flatten(),\n",
        "\n",
        "    Dense(1024, activation='relu'),\n",
        "    Dropout(0.3),\n",
        "\n",
        "    Dense(num_classes, activation='softmax')\n",
        "  ])\n",
        "\n",
        "train_and_predict(get_cnn_v3(input_shape, num_classes))"
      ],
      "execution_count": 31,
      "outputs": [
        {
          "output_type": "stream",
          "text": [
            "Epoch 1/5\n",
            "272/272 [==============================] - 3s 12ms/step - loss: 2.8684 - accuracy: 0.3922 - val_loss: 0.4856 - val_accuracy: 0.8796\n",
            "Epoch 2/5\n",
            "272/272 [==============================] - 3s 11ms/step - loss: 0.6349 - accuracy: 0.8167 - val_loss: 0.1574 - val_accuracy: 0.9724\n",
            "Epoch 3/5\n",
            "272/272 [==============================] - 3s 11ms/step - loss: 0.3139 - accuracy: 0.9080 - val_loss: 0.0568 - val_accuracy: 0.9878\n",
            "Epoch 4/5\n",
            "272/272 [==============================] - 3s 11ms/step - loss: 0.2070 - accuracy: 0.9388 - val_loss: 0.0537 - val_accuracy: 0.9843\n",
            "Epoch 5/5\n",
            "272/272 [==============================] - 3s 11ms/step - loss: 0.1503 - accuracy: 0.9554 - val_loss: 0.0206 - val_accuracy: 0.9945\n"
          ],
          "name": "stdout"
        },
        {
          "output_type": "execute_result",
          "data": {
            "text/plain": [
              "0.9666666666666667"
            ]
          },
          "metadata": {
            "tags": []
          },
          "execution_count": 31
        }
      ]
    },
    {
      "cell_type": "code",
      "metadata": {
        "id": "rUrMnx5ifl2s",
        "colab_type": "code",
        "outputId": "c378f393-807f-4203-b5e8-953db4442046",
        "colab": {
          "base_uri": "https://localhost:8080/",
          "height": 204
        }
      },
      "source": [
        "def get_cnn_v4(input_shape, num_classes):\n",
        "  return Sequential([\n",
        "    Conv2D(filters=32, kernel_size=(3, 3), activation='relu', input_shape=input_shape),\n",
        "    Conv2D(filters=32, kernel_size=(3, 3), activation='relu', padding='same'),\n",
        "    MaxPool2D(),\n",
        "    Dropout(0.3),\n",
        "\n",
        "    Conv2D(filters=64, kernel_size=(3, 3), activation='relu', padding='same'),\n",
        "    Conv2D(filters=64, kernel_size=(3, 3), activation='relu'),\n",
        "    MaxPool2D(),\n",
        "    Dropout(0.3),\n",
        "\n",
        "    Conv2D(filters=64, kernel_size=(3, 3), activation='relu', padding='same'),\n",
        "    Conv2D(filters=64, kernel_size=(3, 3), activation='relu'),\n",
        "    MaxPool2D(),\n",
        "    Dropout(0.3),\n",
        "\n",
        "    Flatten(),\n",
        "\n",
        "    Dense(1024, activation='relu'),\n",
        "    Dropout(0.3),\n",
        "\n",
        "    Dense(num_classes, activation='softmax')\n",
        "  ])\n",
        "\n",
        "train_and_predict(get_cnn_v4(input_shape, num_classes))\n"
      ],
      "execution_count": 32,
      "outputs": [
        {
          "output_type": "stream",
          "text": [
            "Epoch 1/5\n",
            "272/272 [==============================] - 4s 14ms/step - loss: 2.4723 - accuracy: 0.3273 - val_loss: 0.9608 - val_accuracy: 0.6934\n",
            "Epoch 2/5\n",
            "272/272 [==============================] - 3s 13ms/step - loss: 0.8045 - accuracy: 0.7448 - val_loss: 0.1863 - val_accuracy: 0.9466\n",
            "Epoch 3/5\n",
            "272/272 [==============================] - 3s 13ms/step - loss: 0.3938 - accuracy: 0.8759 - val_loss: 0.0942 - val_accuracy: 0.9720\n",
            "Epoch 4/5\n",
            "272/272 [==============================] - 3s 12ms/step - loss: 0.2470 - accuracy: 0.9219 - val_loss: 0.0455 - val_accuracy: 0.9866\n",
            "Epoch 5/5\n",
            "272/272 [==============================] - 3s 13ms/step - loss: 0.1827 - accuracy: 0.9444 - val_loss: 0.0324 - val_accuracy: 0.9911\n"
          ],
          "name": "stdout"
        },
        {
          "output_type": "execute_result",
          "data": {
            "text/plain": [
              "0.9775510204081632"
            ]
          },
          "metadata": {
            "tags": []
          },
          "execution_count": 32
        }
      ]
    },
    {
      "cell_type": "code",
      "metadata": {
        "id": "TEkRKUhvgjb_",
        "colab_type": "code",
        "colab": {
          "base_uri": "https://localhost:8080/",
          "height": 204
        },
        "outputId": "f4df7fd7-2146-4627-b7fb-e5977e79eb91"
      },
      "source": [
        "def get_cnn_v5(input_shape, num_classes):\n",
        "  return Sequential ([\n",
        "    Conv2D(filters=32, kernel_size=(3,3), activation='relu', input_shape=input_shape),\n",
        "    Conv2D(filters=32, kernel_size=(3,3), activation='relu',padding='same'),\n",
        "    MaxPool2D(),\n",
        "    Dropout(0.3), \n",
        "\n",
        "    Conv2D(filters=64, kernel_size=(3,3), activation='relu', padding='same'),\n",
        "    Conv2D(filters=64, kernel_size=(3,3), activation='relu'),\n",
        "    MaxPool2D(),\n",
        "    Dropout(0.3), \n",
        "\n",
        "    Conv2D(filters=64, kernel_size=(3,3), activation='relu', padding='same'),\n",
        "    Conv2D(filters=64, kernel_size=(3,3), activation='relu'),\n",
        "    MaxPool2D(),\n",
        "    Dropout(0.3), \n",
        "\n",
        "    Flatten(),\n",
        "\n",
        "    Dense(1024, activation='relu'), \n",
        "    Dropout(0.3),    \n",
        "    Dense(1024, activation='relu'), \n",
        "    Dropout(0.3),   \n",
        "\n",
        "    Dense(num_classes, activation='softmax'), \n",
        "  ])\n",
        "\n",
        "train_and_predict(get_cnn_v5(input_shape, num_classes ))"
      ],
      "execution_count": 33,
      "outputs": [
        {
          "output_type": "stream",
          "text": [
            "Epoch 1/5\n",
            "272/272 [==============================] - 4s 15ms/step - loss: 2.6808 - accuracy: 0.2643 - val_loss: 1.2276 - val_accuracy: 0.5748\n",
            "Epoch 2/5\n",
            "272/272 [==============================] - 4s 14ms/step - loss: 0.9649 - accuracy: 0.6777 - val_loss: 0.3576 - val_accuracy: 0.8856\n",
            "Epoch 3/5\n",
            "272/272 [==============================] - 4s 14ms/step - loss: 0.4829 - accuracy: 0.8418 - val_loss: 0.1123 - val_accuracy: 0.9668\n",
            "Epoch 4/5\n",
            "272/272 [==============================] - 4s 14ms/step - loss: 0.2924 - accuracy: 0.9086 - val_loss: 0.0755 - val_accuracy: 0.9797\n",
            "Epoch 5/5\n",
            "272/272 [==============================] - 4s 14ms/step - loss: 0.2191 - accuracy: 0.9351 - val_loss: 0.0458 - val_accuracy: 0.9860\n"
          ],
          "name": "stdout"
        },
        {
          "output_type": "execute_result",
          "data": {
            "text/plain": [
              "0.9600907029478458"
            ]
          },
          "metadata": {
            "tags": []
          },
          "execution_count": 33
        }
      ]
    },
    {
      "cell_type": "code",
      "metadata": {
        "id": "KSPfE4BQ90Su",
        "colab_type": "code",
        "colab": {}
      },
      "source": [
        "X_train_gray = color.rgb2gray(X_train).reshape(-1, 32, 32, 1)\n",
        "X_test_gray = color.rgb2gray(X_test).reshape(-1, 32, 32, 1)"
      ],
      "execution_count": 0,
      "outputs": []
    },
    {
      "cell_type": "code",
      "metadata": {
        "id": "544L_uov95-4",
        "colab_type": "code",
        "colab": {
          "base_uri": "https://localhost:8080/",
          "height": 283
        },
        "outputId": "7a309b84-6fc8-4496-d375-ceedf158a95c"
      },
      "source": [
        "plt.imshow(color.rgb2gray(X_train[0]), cmap=plt.get_cmap('gray'))"
      ],
      "execution_count": 35,
      "outputs": [
        {
          "output_type": "execute_result",
          "data": {
            "text/plain": [
              "<matplotlib.image.AxesImage at 0x7ff644cf6128>"
            ]
          },
          "metadata": {
            "tags": []
          },
          "execution_count": 35
        },
        {
          "output_type": "display_data",
          "data": {
            "image/png": "[encoded data removed]",
            "text/plain": [
              "<Figure size 432x288 with 1 Axes>"
            ]
          },
          "metadata": {
            "tags": []
          }
        }
      ]
    },
    {
      "cell_type": "code",
      "metadata": {
        "id": "4PvDfJup97pB",
        "colab_type": "code",
        "colab": {
          "base_uri": "https://localhost:8080/",
          "height": 204
        },
        "outputId": "d7a01923-e900-46c9-a633-7ab053f25dc8"
      },
      "source": [
        "model = get_cnn_v5((32, 32, 1), num_classes)\n",
        "\n",
        "model_trained = train_model(model, X_train_gray, y_train, params_fit ={})\n",
        "predict(model_trained, X_test_gray, y_test)"
      ],
      "execution_count": 42,
      "outputs": [
        {
          "output_type": "stream",
          "text": [
            "Epoch 1/5\n",
            "272/272 [==============================] - 4s 14ms/step - loss: 2.4936 - accuracy: 0.2976 - val_loss: 0.6538 - val_accuracy: 0.8050\n",
            "Epoch 2/5\n",
            "272/272 [==============================] - 4s 13ms/step - loss: 0.5275 - accuracy: 0.8298 - val_loss: 0.1181 - val_accuracy: 0.9608\n",
            "Epoch 3/5\n",
            "272/272 [==============================] - 4s 14ms/step - loss: 0.2356 - accuracy: 0.9241 - val_loss: 0.0590 - val_accuracy: 0.9839\n",
            "Epoch 4/5\n",
            "272/272 [==============================] - 4s 13ms/step - loss: 0.1588 - accuracy: 0.9502 - val_loss: 0.0350 - val_accuracy: 0.9903\n",
            "Epoch 5/5\n",
            "272/272 [==============================] - 4s 13ms/step - loss: 0.1212 - accuracy: 0.9624 - val_loss: 0.0279 - val_accuracy: 0.9920\n"
          ],
          "name": "stdout"
        },
        {
          "output_type": "execute_result",
          "data": {
            "text/plain": [
              "0.9600907029478458"
            ]
          },
          "metadata": {
            "tags": []
          },
          "execution_count": 42
        }
      ]
    },
    {
      "cell_type": "code",
      "metadata": {
        "id": "WXRju04n99WS",
        "colab_type": "code",
        "colab": {}
      },
      "source": [
        "\n",
        "def preproc_img(img):\n",
        "  hsv = color.rgb2hsv(img)\n",
        "  hsv[:,:,2] = exposure.equalize_adapthist(hsv[:,:,2])\n",
        "  img = color.hsv2rgb(hsv)\n",
        "\n",
        "  return img"
      ],
      "execution_count": 0,
      "outputs": []
    },
    {
      "cell_type": "code",
      "metadata": {
        "id": "KQSiyjnP_GlF",
        "colab_type": "code",
        "colab": {
          "base_uri": "https://localhost:8080/",
          "height": 266
        },
        "outputId": "b892adb4-c7aa-40c5-f614-5839d604e74a"
      },
      "source": [
        "plt.imshow(X_train[400]);\n"
      ],
      "execution_count": 39,
      "outputs": [
        {
          "output_type": "display_data",
          "data": {
            "image/png": "[encoded data removed]",
            "text/plain": [
              "<Figure size 432x288 with 1 Axes>"
            ]
          },
          "metadata": {
            "tags": []
          }
        }
      ]
    },
    {
      "cell_type": "code",
      "metadata": {
        "id": "C9uxUu3f_H0U",
        "colab_type": "code",
        "colab": {
          "base_uri": "https://localhost:8080/",
          "height": 266
        },
        "outputId": "e7745246-b5f9-45ee-b582-4aa1e644f2a7"
      },
      "source": [
        "plt.imshow(preproc_img(X_train[400]));\n"
      ],
      "execution_count": 40,
      "outputs": [
        {
          "output_type": "display_data",
          "data": {
            "image/png": "[encoded data removed]",
            "text/plain": [
              "<Figure size 432x288 with 1 Axes>"
            ]
          },
          "metadata": {
            "tags": []
          }
        }
      ]
    },
    {
      "cell_type": "code",
      "metadata": {
        "id": "HXfl6n2n_JBF",
        "colab_type": "code",
        "colab": {}
      },
      "source": [
        ""
      ],
      "execution_count": 0,
      "outputs": []
    }
  ]
}