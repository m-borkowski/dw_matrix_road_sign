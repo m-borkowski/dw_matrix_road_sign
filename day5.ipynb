{
  "nbformat": 4,
  "nbformat_minor": 0,
  "metadata": {
    "colab": {
      "name": "day5.ipynb",
      "provenance": [],
      "mount_file_id": "1pwN3ZwolITgJfB4l036WHQ4W27xxy9W_",
      "authorship_tag": "ABX9TyMxCv6CnYe9QEkxYNKERORs",
      "include_colab_link": true
    },
    "kernelspec": {
      "name": "python3",
      "display_name": "Python 3"
    },
    "accelerator": "GPU"
  },
  "cells": [
    {
      "cell_type": "markdown",
      "metadata": {
        "id": "view-in-github",
        "colab_type": "text"
      },
      "source": [
        "<a href=\"https://colab.research.google.com/github/paragrafff22/dw_matrix_road_sign/blob/master/day5.ipynb\" target=\"_parent\"><img src=\"https://colab.research.google.com/assets/colab-badge.svg\" alt=\"Open In Colab\"/></a>"
      ]
    },
    {
      "cell_type": "code",
      "metadata": {
        "id": "KdC7cQRylY0C",
        "colab_type": "code",
        "colab": {
          "base_uri": "https://localhost:8080/",
          "height": 170
        },
        "outputId": "e665b5b8-d005-48ef-c204-bd32d43f97a5"
      },
      "source": [
        "!pip install hyperopt"
      ],
      "execution_count": 1,
      "outputs": [
        {
          "output_type": "stream",
          "text": [
            "Requirement already satisfied: hyperopt in /usr/local/lib/python3.6/dist-packages (0.1.2)\n",
            "Requirement already satisfied: numpy in /usr/local/lib/python3.6/dist-packages (from hyperopt) (1.18.2)\n",
            "Requirement already satisfied: networkx in /usr/local/lib/python3.6/dist-packages (from hyperopt) (2.4)\n",
            "Requirement already satisfied: six in /usr/local/lib/python3.6/dist-packages (from hyperopt) (1.12.0)\n",
            "Requirement already satisfied: future in /usr/local/lib/python3.6/dist-packages (from hyperopt) (0.16.0)\n",
            "Requirement already satisfied: pymongo in /usr/local/lib/python3.6/dist-packages (from hyperopt) (3.10.1)\n",
            "Requirement already satisfied: tqdm in /usr/local/lib/python3.6/dist-packages (from hyperopt) (4.38.0)\n",
            "Requirement already satisfied: scipy in /usr/local/lib/python3.6/dist-packages (from hyperopt) (1.4.1)\n",
            "Requirement already satisfied: decorator>=4.3.0 in /usr/local/lib/python3.6/dist-packages (from networkx->hyperopt) (4.4.2)\n"
          ],
          "name": "stdout"
        }
      ]
    },
    {
      "cell_type": "code",
      "metadata": {
        "id": "qUFu5HC1ln4F",
        "colab_type": "code",
        "colab": {}
      },
      "source": [
        "import pandas as pd\n",
        "import numpy as np\n",
        "import os\n",
        "import datetime\n",
        "\n",
        "import tensorflow as tf\n",
        "from tensorflow.keras.models import Sequential\n",
        "from tensorflow.keras.layers import Conv2D, MaxPool2D, Dense, Flatten, Dropout\n",
        "from tensorflow.keras.utils import to_categorical\n",
        "\n",
        "%load_ext tensorboard\n",
        "\n",
        "import matplotlib.pyplot as plt\n",
        "from skimage import color, exposure\n",
        "\n",
        "from sklearn.metrics import accuracy_score\n",
        "\n",
        "from hyperopt import hp, STATUS_OK, tpe, Trials, fmin"
      ],
      "execution_count": 0,
      "outputs": []
    },
    {
      "cell_type": "code",
      "metadata": {
        "id": "rbPquS64lryR",
        "colab_type": "code",
        "colab": {
          "base_uri": "https://localhost:8080/",
          "height": 34
        },
        "outputId": "395e7d08-ef11-4785-c151-eb4fd7fd5e66"
      },
      "source": [
        "cd '/content/drive/My Drive/Colab Notebooks/matrix/matrix_three/dw_matrix_road_sign'"
      ],
      "execution_count": 3,
      "outputs": [
        {
          "output_type": "stream",
          "text": [
            "/content/drive/My Drive/Colab Notebooks/matrix/matrix_three/dw_matrix_road_sign\n"
          ],
          "name": "stdout"
        }
      ]
    },
    {
      "cell_type": "code",
      "metadata": {
        "id": "NFMVpbbHlwrh",
        "colab_type": "code",
        "colab": {}
      },
      "source": [
        "train = pd.read_pickle('data/train.p')\n",
        "test = pd.read_pickle('data/test.p')\n",
        "\n",
        "X_train, y_train = train['features'], train['labels']\n",
        "X_test, y_test = test['features'], test['labels']"
      ],
      "execution_count": 0,
      "outputs": []
    },
    {
      "cell_type": "code",
      "metadata": {
        "id": "4COOm_jBrovc",
        "colab_type": "code",
        "colab": {}
      },
      "source": [
        "if y_train.ndim == 1: y_train = to_categorical(y_train)\n",
        "if y_test.ndim == 1: y_test = to_categorical(y_test)"
      ],
      "execution_count": 0,
      "outputs": []
    },
    {
      "cell_type": "code",
      "metadata": {
        "id": "3TltoH9qrqk7",
        "colab_type": "code",
        "colab": {}
      },
      "source": [
        "input_shape = X_train.shape[1:]\n",
        "num_classes = y_train.shape[1]"
      ],
      "execution_count": 0,
      "outputs": []
    },
    {
      "cell_type": "code",
      "metadata": {
        "id": "pRdjCzlorszc",
        "colab_type": "code",
        "colab": {}
      },
      "source": [
        "def train_model(model, X_train, y_train, params_fit={}):\n",
        "  model.compile(loss='categorical_crossentropy', optimizer='Adam', metrics=['accuracy'])\n",
        "  \n",
        "  logdir = os.path.join(\"logs\", datetime.datetime.now().strftime(\"%Y%m%d-%H%M%S\"))\n",
        "  tensorboard_callback = tf.keras.callbacks.TensorBoard(logdir, histogram_freq=1)\n",
        "\n",
        "  model.fit(\n",
        "      X_train, \n",
        "      y_train,\n",
        "      batch_size=params_fit.get('batch_size', 128),\n",
        "      epochs=params_fit.get('epochs', 5),\n",
        "      verbose=params_fit.get('verbose', 1),\n",
        "      validation_data=params_fit.get('validation_data', (X_train, y_train)),\n",
        "      callbacks = [tensorboard_callback]\n",
        "      )\n",
        "  return model\n",
        "\n",
        "def predict(model_trained, X_test, y_test, scoring=accuracy_score):\n",
        "\n",
        "  y_test_norm = np.argmax(y_test, axis=1)\n",
        "\n",
        "  y_pred_prob = model_trained.predict(X_test)\n",
        "  y_pred = np.argmax(y_pred_prob, axis=1)\n",
        "\n",
        "  return scoring(y_test_norm, y_pred)"
      ],
      "execution_count": 0,
      "outputs": []
    },
    {
      "cell_type": "code",
      "metadata": {
        "id": "uZ1M9xC7r3mX",
        "colab_type": "code",
        "colab": {}
      },
      "source": [
        "def get_cnn_v5(input_shape, num_classes):\n",
        "  return Sequential((\n",
        "    Conv2D(filters=32, kernel_size=(3,3), activation='relu', input_shape=input_shape),\n",
        "    Conv2D(filters=32, kernel_size=(3,3), activation='relu', padding='same'),\n",
        "    MaxPool2D(),\n",
        "    Dropout(0.3),\n",
        "\n",
        "    Conv2D(filters=64, kernel_size=(3,3), activation='relu', padding='same'),\n",
        "    Conv2D(filters=64, kernel_size=(3,3), activation='relu'),\n",
        "    MaxPool2D(),\n",
        "    Dropout(0.3),\n",
        "\n",
        "    Conv2D(filters=64, kernel_size=(3,3), activation='relu', padding='same'),\n",
        "    Conv2D(filters=64, kernel_size=(3,3), activation='relu'),\n",
        "    MaxPool2D(),\n",
        "    Dropout(0.3),\n",
        "\n",
        "    Flatten(),\n",
        "\n",
        "    Dense(1024, activation='relu'),\n",
        "    Dropout(0.3),\n",
        "    \n",
        "    Dense(1024, activation='relu'),\n",
        "    Dropout(0.3),\n",
        "\n",
        "    Dense(num_classes, activation='softmax'),\n",
        "))"
      ],
      "execution_count": 0,
      "outputs": []
    },
    {
      "cell_type": "code",
      "metadata": {
        "id": "HXbBGGmksC8K",
        "colab_type": "code",
        "colab": {
          "base_uri": "https://localhost:8080/",
          "height": 204
        },
        "outputId": "d40dcd90-daca-4ead-a0e9-0a9f8920e6e8"
      },
      "source": [
        "model = get_cnn_v5(input_shape, num_classes)\n",
        "model_trained = train_model(model, X_train, y_train)\n",
        "\n",
        "predict(model_trained, X_test, y_test)"
      ],
      "execution_count": 9,
      "outputs": [
        {
          "output_type": "stream",
          "text": [
            "Epoch 1/5\n",
            "272/272 [==============================] - 5s 17ms/step - loss: 2.6293 - accuracy: 0.2727 - val_loss: 1.1184 - val_accuracy: 0.6363\n",
            "Epoch 2/5\n",
            "272/272 [==============================] - 4s 15ms/step - loss: 0.8962 - accuracy: 0.7157 - val_loss: 0.2963 - val_accuracy: 0.9031\n",
            "Epoch 3/5\n",
            "272/272 [==============================] - 4s 15ms/step - loss: 0.4148 - accuracy: 0.8713 - val_loss: 0.1100 - val_accuracy: 0.9704\n",
            "Epoch 4/5\n",
            "272/272 [==============================] - 4s 15ms/step - loss: 0.2662 - accuracy: 0.9185 - val_loss: 0.0658 - val_accuracy: 0.9790\n",
            "Epoch 5/5\n",
            "272/272 [==============================] - 4s 15ms/step - loss: 0.1899 - accuracy: 0.9437 - val_loss: 0.0568 - val_accuracy: 0.9824\n"
          ],
          "name": "stdout"
        },
        {
          "output_type": "execute_result",
          "data": {
            "text/plain": [
              "0.9605442176870749"
            ]
          },
          "metadata": {
            "tags": []
          },
          "execution_count": 9
        }
      ]
    },
    {
      "cell_type": "code",
      "metadata": {
        "id": "A9_21tQVsRib",
        "colab_type": "code",
        "colab": {
          "base_uri": "https://localhost:8080/",
          "height": 51
        },
        "outputId": "f1ca5665-841c-439f-a7e0-90dac6d3c02f"
      },
      "source": [
        "model_trained.evaluate(X_test, y_test)[1]\n"
      ],
      "execution_count": 10,
      "outputs": [
        {
          "output_type": "stream",
          "text": [
            "138/138 [==============================] - 1s 4ms/step - loss: 0.1431 - accuracy: 0.9605\n"
          ],
          "name": "stdout"
        },
        {
          "output_type": "execute_result",
          "data": {
            "text/plain": [
              "0.960544228553772"
            ]
          },
          "metadata": {
            "tags": []
          },
          "execution_count": 10
        }
      ]
    },
    {
      "cell_type": "code",
      "metadata": {
        "id": "pfXZbtEXs3vF",
        "colab_type": "code",
        "colab": {}
      },
      "source": [
        "def get_model(params):\n",
        "  return Sequential((\n",
        "    Conv2D(filters=32, kernel_size=(3,3), activation='relu', input_shape=input_shape),  \n",
        "    Conv2D(filters=32, kernel_size=(3,3), activation='relu', padding='same'),\n",
        "    MaxPool2D(),\n",
        "    Dropout(params['dropout_cnn_block_one']),\n",
        "\n",
        "    Conv2D(filters=64, kernel_size=(3,3), activation='relu', padding='same'),\n",
        "    Conv2D(filters=64, kernel_size=(3,3), activation='relu'),\n",
        "    MaxPool2D(),\n",
        "    Dropout(params['dropout_cnn_block_two']),\n",
        "\n",
        "    Conv2D(filters=128, kernel_size=(3,3), activation='relu', padding='same'),\n",
        "    Conv2D(filters=128, kernel_size=(3,3), activation='relu'),\n",
        "    MaxPool2D(),\n",
        "    Dropout(params['dropout_cnn_block_three']),\n",
        "\n",
        "    Flatten(),\n",
        "\n",
        "    Dense(1024, activation='relu'),\n",
        "    Dropout(params['dropout_dense_block_one']),\n",
        "    \n",
        "    Dense(1024, activation='relu'),\n",
        "    Dropout(params['dropout_dense_block_two']),\n",
        "\n",
        "    Dense(num_classes, activation='softmax'),\n",
        "))"
      ],
      "execution_count": 0,
      "outputs": []
    },
    {
      "cell_type": "code",
      "metadata": {
        "id": "B741g-09sR1q",
        "colab_type": "code",
        "colab": {}
      },
      "source": [
        "def func_obj(params):\n",
        "  model = get_model(params)\n",
        "  model.compile(loss='categorical_crossentropy', optimizer='Adam', metrics=['accuracy'])\n",
        "  \n",
        "  logdir = os.path.join(\"logs\", datetime.datetime.now().strftime(\"%Y%m%d-%H%M%S\"))\n",
        "  tensorboard_callback = tf.keras.callbacks.TensorBoard(logdir, histogram_freq=1)\n",
        "\n",
        "  model.fit(\n",
        "      X_train, \n",
        "      y_train,\n",
        "      batch_size=int(params.get('batch_size', 128)),\n",
        "      epochs=5,\n",
        "      verbose=0,\n",
        "      )\n",
        "  \n",
        "  score = model.evaluate(X_test, y_test, verbose=0)\n",
        "  accuracy = score[1]\n",
        "  print(params, 'accuracy={}'.format(accuracy))\n",
        "\n",
        "  return {'loss': -accuracy, 'status': STATUS_OK, 'model': model}"
      ],
      "execution_count": 0,
      "outputs": []
    },
    {
      "cell_type": "code",
      "metadata": {
        "id": "u_2blGFjszoD",
        "colab_type": "code",
        "colab": {
          "base_uri": "https://localhost:8080/",
          "height": 1000
        },
        "outputId": "f8c60f29-6fca-441b-9c8f-6818c9d789c4"
      },
      "source": [
        "space = {\n",
        "    'batch-size': hp.quniform('batch-size', 100, 200, 10),\n",
        "    'dropout_cnn_block_one': hp.uniform('dropout_cnn_block_one', 0.3, 0.5),\n",
        "    'dropout_cnn_block_two': hp.uniform('dropout_cnn_block_two', 0.3, 0.5),\n",
        "    'dropout_cnn_block_three': hp.uniform('dropout_cnn_block_three', 0.3, 0.5),\n",
        "\n",
        "    'dropout_dense_block_one': hp.uniform('dropout_dense_block_one', 0.3, 0.7),\n",
        "    'dropout_dense_block_two': hp.uniform('dropout_dense_block_two', 0.3, 0.7),\n",
        "}\n",
        "\n",
        "best = fmin(\n",
        "    func_obj,\n",
        "    space,\n",
        "    tpe.suggest,\n",
        "    30,\n",
        "    Trials()\n",
        ")"
      ],
      "execution_count": 14,
      "outputs": [
        {
          "output_type": "stream",
          "text": [
            "{'batch-size': 180.0, 'dropout_cnn_block_one': 0.3952099642072795, 'dropout_cnn_block_three': 0.4846491003740191, 'dropout_cnn_block_two': 0.4990106926459905, 'dropout_dense_block_one': 0.49419779151404153, 'dropout_dense_block_two': 0.43030183986209836}\n",
            "accuracy=0.938548743724823\n",
            "{'batch-size': 190.0, 'dropout_cnn_block_one': 0.40460354781833413, 'dropout_cnn_block_three': 0.40354344237898687, 'dropout_cnn_block_two': 0.37658672668363163, 'dropout_dense_block_one': 0.4605020977451414, 'dropout_dense_block_two': 0.5327796232574953}\n",
            "accuracy=0.9575963616371155\n",
            "{'batch-size': 140.0, 'dropout_cnn_block_one': 0.34794794211410973, 'dropout_cnn_block_three': 0.4162705560641805, 'dropout_cnn_block_two': 0.45602961738552106, 'dropout_dense_block_one': 0.31215216752388325, 'dropout_dense_block_two': 0.5014220131698375}\n",
            "accuracy=0.9616780281066895\n",
            "{'batch-size': 160.0, 'dropout_cnn_block_one': 0.37498274825038974, 'dropout_cnn_block_three': 0.46842024685751293, 'dropout_cnn_block_two': 0.30694533924529044, 'dropout_dense_block_one': 0.31945645861452104, 'dropout_dense_block_two': 0.5483810718386635}\n",
            "accuracy=0.9571428298950195\n",
            "{'batch-size': 150.0, 'dropout_cnn_block_one': 0.3219451453567391, 'dropout_cnn_block_three': 0.40274372821755905, 'dropout_cnn_block_two': 0.47904084483382553, 'dropout_dense_block_one': 0.6957572002057656, 'dropout_dense_block_two': 0.37758483592744485}\n",
            "accuracy=0.9269841313362122\n",
            "{'batch-size': 170.0, 'dropout_cnn_block_one': 0.4696913264237635, 'dropout_cnn_block_three': 0.47393646418049246, 'dropout_cnn_block_two': 0.43159179590361735, 'dropout_dense_block_one': 0.5705742088786133, 'dropout_dense_block_two': 0.35697689340493716}\n",
            "accuracy=0.8979591727256775\n",
            "{'batch-size': 130.0, 'dropout_cnn_block_one': 0.43414918742351, 'dropout_cnn_block_three': 0.4018174132644251, 'dropout_cnn_block_two': 0.4030883907965791, 'dropout_dense_block_one': 0.32206329688466395, 'dropout_dense_block_two': 0.6735969834200809}\n",
            "accuracy=0.9301587343215942\n",
            "{'batch-size': 200.0, 'dropout_cnn_block_one': 0.45287835240670365, 'dropout_cnn_block_three': 0.4007710050132843, 'dropout_cnn_block_two': 0.4990083907143097, 'dropout_dense_block_one': 0.5444001105972989, 'dropout_dense_block_two': 0.6136355289378215}\n",
            "accuracy=0.8766440153121948\n",
            "{'batch-size': 170.0, 'dropout_cnn_block_one': 0.4256197557246464, 'dropout_cnn_block_three': 0.46518024694144267, 'dropout_cnn_block_two': 0.4792587890881196, 'dropout_dense_block_one': 0.6777189871834266, 'dropout_dense_block_two': 0.5066524490731058}\n",
            "accuracy=0.8764172196388245\n",
            "{'batch-size': 200.0, 'dropout_cnn_block_one': 0.42854190028528927, 'dropout_cnn_block_three': 0.49191807080469213, 'dropout_cnn_block_two': 0.37463257084423035, 'dropout_dense_block_one': 0.3264768571596634, 'dropout_dense_block_two': 0.5427042524085128}\n",
            "accuracy=0.8596372008323669\n",
            "{'batch-size': 110.0, 'dropout_cnn_block_one': 0.39534841106719865, 'dropout_cnn_block_three': 0.3779022809670314, 'dropout_cnn_block_two': 0.45245485038094074, 'dropout_dense_block_one': 0.54533584476949, 'dropout_dense_block_two': 0.6904968356678896}\n",
            "accuracy=0.8034013509750366\n",
            "{'batch-size': 180.0, 'dropout_cnn_block_one': 0.48983423814142224, 'dropout_cnn_block_three': 0.30414248559063173, 'dropout_cnn_block_two': 0.4018469922234548, 'dropout_dense_block_one': 0.3314838323039082, 'dropout_dense_block_two': 0.6742805784803254}\n",
            "accuracy=0.8950113654136658\n",
            "{'batch-size': 170.0, 'dropout_cnn_block_one': 0.3489082552017442, 'dropout_cnn_block_three': 0.49648941608457686, 'dropout_cnn_block_two': 0.3281671085309746, 'dropout_dense_block_one': 0.6604918238346856, 'dropout_dense_block_two': 0.3391176064385797}\n",
            "accuracy=0.9451247453689575\n",
            "{'batch-size': 200.0, 'dropout_cnn_block_one': 0.361626981675621, 'dropout_cnn_block_three': 0.3043872327454939, 'dropout_cnn_block_two': 0.41387341337557926, 'dropout_dense_block_one': 0.6557274950177416, 'dropout_dense_block_two': 0.4308016485713085}\n",
            "accuracy=0.9609977602958679\n",
            "{'batch-size': 180.0, 'dropout_cnn_block_one': 0.3151145665679672, 'dropout_cnn_block_three': 0.32643621813720586, 'dropout_cnn_block_two': 0.4196868319877738, 'dropout_dense_block_one': 0.3778523038645196, 'dropout_dense_block_two': 0.3230568737570516}\n",
            "accuracy=0.9566893577575684\n",
            "{'batch-size': 170.0, 'dropout_cnn_block_one': 0.3185705517693196, 'dropout_cnn_block_three': 0.36471581587218804, 'dropout_cnn_block_two': 0.37910684744329665, 'dropout_dense_block_one': 0.4746781281085738, 'dropout_dense_block_two': 0.5757852437034565}\n",
            "accuracy=0.942630410194397\n",
            "{'batch-size': 120.0, 'dropout_cnn_block_one': 0.3536490112663367, 'dropout_cnn_block_three': 0.490208644389133, 'dropout_cnn_block_two': 0.4690661410955342, 'dropout_dense_block_one': 0.3483229896158479, 'dropout_dense_block_two': 0.6636155817752099}\n",
            "accuracy=0.8501133918762207\n",
            "{'batch-size': 140.0, 'dropout_cnn_block_one': 0.3365074943363427, 'dropout_cnn_block_three': 0.4916392799886434, 'dropout_cnn_block_two': 0.41269914160925947, 'dropout_dense_block_one': 0.397258312244823, 'dropout_dense_block_two': 0.6250118369352347}\n",
            "accuracy=0.9446712136268616\n",
            "{'batch-size': 170.0, 'dropout_cnn_block_one': 0.4617315103616172, 'dropout_cnn_block_three': 0.38721614897847645, 'dropout_cnn_block_two': 0.31839828264508196, 'dropout_dense_block_one': 0.6402684811833765, 'dropout_dense_block_two': 0.4168015442776406}\n",
            "accuracy=0.8929705023765564\n",
            "{'batch-size': 180.0, 'dropout_cnn_block_one': 0.41527687934867585, 'dropout_cnn_block_three': 0.4829471970757677, 'dropout_cnn_block_two': 0.43427078356938487, 'dropout_dense_block_one': 0.4549030975528382, 'dropout_dense_block_two': 0.3687423013854052}\n",
            "accuracy=0.9147392511367798\n",
            "{'batch-size': 100.0, 'dropout_cnn_block_one': 0.370396496272437, 'dropout_cnn_block_three': 0.4331950779364916, 'dropout_cnn_block_two': 0.44996597971371155, 'dropout_dense_block_one': 0.6204058658942859, 'dropout_dense_block_two': 0.44645248353337713}\n",
            "accuracy=0.879365086555481\n",
            "{'batch-size': 140.0, 'dropout_cnn_block_one': 0.37333340309921587, 'dropout_cnn_block_three': 0.43586699233542725, 'dropout_cnn_block_two': 0.3393542764217106, 'dropout_dense_block_one': 0.5957233026077582, 'dropout_dense_block_two': 0.47765408785406227}\n",
            "accuracy=0.9603174328804016\n",
            "{'batch-size': 150.0, 'dropout_cnn_block_one': 0.34260607325663556, 'dropout_cnn_block_three': 0.3458486734139186, 'dropout_cnn_block_two': 0.35517138067451415, 'dropout_dense_block_one': 0.43810227151675973, 'dropout_dense_block_two': 0.4610552116253759}\n",
            "accuracy=0.958730161190033\n",
            "{'batch-size': 130.0, 'dropout_cnn_block_one': 0.302013658219806, 'dropout_cnn_block_three': 0.43789303353478215, 'dropout_cnn_block_two': 0.45557235623833486, 'dropout_dense_block_one': 0.4151405463510094, 'dropout_dense_block_two': 0.4047548895517476}\n",
            "accuracy=0.9614512324333191\n",
            "{'batch-size': 120.0, 'dropout_cnn_block_one': 0.30533966227094356, 'dropout_cnn_block_three': 0.43365815916237027, 'dropout_cnn_block_two': 0.4595818281752975, 'dropout_dense_block_one': 0.40776052124541506, 'dropout_dense_block_two': 0.4029764128969393}\n",
            "accuracy=0.9657596349716187\n",
            "{'batch-size': 110.0, 'dropout_cnn_block_one': 0.3314447302149936, 'dropout_cnn_block_three': 0.42139672125588284, 'dropout_cnn_block_two': 0.48499964048381006, 'dropout_dense_block_one': 0.36480796259879, 'dropout_dense_block_two': 0.49008202232716247}\n",
            "accuracy=0.9428571462631226\n",
            "{'batch-size': 120.0, 'dropout_cnn_block_one': 0.3088951275686457, 'dropout_cnn_block_three': 0.4548996795526129, 'dropout_cnn_block_two': 0.46417647839558196, 'dropout_dense_block_one': 0.421360276257798, 'dropout_dense_block_two': 0.3996026568647177}\n",
            "accuracy=0.9435374140739441\n",
            "{'batch-size': 100.0, 'dropout_cnn_block_one': 0.3037019433754457, 'dropout_cnn_block_three': 0.4160271651556043, 'dropout_cnn_block_two': 0.4330919181361769, 'dropout_dense_block_one': 0.3795085182375492, 'dropout_dense_block_two': 0.30413736856612505}\n",
            "accuracy=0.9680272340774536\n",
            "{'batch-size': 100.0, 'dropout_cnn_block_one': 0.3041254734522431, 'dropout_cnn_block_three': 0.44553953718022865, 'dropout_cnn_block_two': 0.4967429617884242, 'dropout_dense_block_one': 0.5085879545372259, 'dropout_dense_block_two': 0.30634764667613495}\n",
            "accuracy=0.9628117680549622\n",
            "{'batch-size': 110.0, 'dropout_cnn_block_one': 0.33117176761934636, 'dropout_cnn_block_three': 0.366469791723823, 'dropout_cnn_block_two': 0.43788920200451464, 'dropout_dense_block_one': 0.49280461017283184, 'dropout_dense_block_two': 0.30659443559518507}\n",
            "accuracy=0.9433106780052185\n",
            "100%|██████████| 30/30 [06:02<00:00, 12.07s/it, best loss: -0.9680272340774536]\n"
          ],
          "name": "stdout"
        }
      ]
    },
    {
      "cell_type": "code",
      "metadata": {
        "id": "Abs4QFL9s8Ec",
        "colab_type": "code",
        "colab": {}
      },
      "source": [
        ""
      ],
      "execution_count": 0,
      "outputs": []
    }
  ]
}